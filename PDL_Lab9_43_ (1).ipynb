{
 "cells": [
  {
   "cell_type": "markdown",
   "id": "discrete-intranet",
   "metadata": {
    "id": "discrete-intranet",
    "tags": []
   },
   "source": [
    "## Lab9: Image Classification using CNN for CIFAR-10 \n"
   ]
  },
  {
   "cell_type": "markdown",
   "id": "0e8a5f5d",
   "metadata": {},
   "source": [
    "# Name: VASAVI R"
   ]
  },
  {
   "cell_type": "markdown",
   "id": "WBSXf5MtrkVE",
   "metadata": {
    "id": "WBSXf5MtrkVE"
   },
   "source": [
    "# Roll No: 215229143"
   ]
  },
  {
   "cell_type": "markdown",
   "id": "demonstrated-cooler",
   "metadata": {
    "id": "demonstrated-cooler"
   },
   "source": [
    "### 1. Import libraries"
   ]
  },
  {
   "cell_type": "code",
   "execution_count": 1,
   "id": "neural-sessions",
   "metadata": {
    "id": "neural-sessions"
   },
   "outputs": [],
   "source": [
    "from __future__ import print_function\n",
    "import keras\n",
    "from keras.datasets import cifar10\n",
    "from keras.preprocessing.image import ImageDataGenerator\n",
    "from keras.models import Sequential\n",
    "import random\n",
    "import numpy as np\n",
    "from keras.layers import Dense, Dropout, Activation, Flatten\n",
    "from keras.layers import Conv2D, MaxPooling2D\n",
    "from tensorflow.keras.optimizers import RMSprop,SGD,Adam\n",
    "from tensorflow.keras.utils import to_categorical\n",
    "import matplotlib.pyplot as plt\n",
    "%matplotlib inline"
   ]
  },
  {
   "cell_type": "markdown",
   "id": "historical-yemen",
   "metadata": {
    "id": "historical-yemen"
   },
   "source": [
    "### 2. Load your data and print the shape of training and test samples"
   ]
  },
  {
   "cell_type": "code",
   "execution_count": 2,
   "id": "antique-event",
   "metadata": {
    "colab": {
     "base_uri": "https://localhost:8080/"
    },
    "id": "antique-event",
    "outputId": "72adda19-8009-44e6-e1a0-11946caca048"
   },
   "outputs": [
    {
     "name": "stdout",
     "output_type": "stream",
     "text": [
      "Downloading data from https://www.cs.toronto.edu/~kriz/cifar-10-python.tar.gz\n",
      "170500096/170498071 [==============================] - 2s 0us/step\n",
      "170508288/170498071 [==============================] - 2s 0us/step\n",
      "x_train shape: (50000, 32, 32, 3)\n",
      "x_test shape: (10000, 32, 32, 3)\n",
      "50000 train samples\n",
      "10000 test samples\n"
     ]
    }
   ],
   "source": [
    "(x_train, y_train), (x_test, y_test) = cifar10.load_data()\n",
    "\n",
    "print('x_train shape:', x_train.shape)\n",
    "print('x_test shape:', x_test.shape)\n",
    "\n",
    "print(x_train.shape[0], 'train samples')\n",
    "print(x_test.shape[0], 'test samples')"
   ]
  },
  {
   "cell_type": "markdown",
   "id": "ejUG5KSguMFZ",
   "metadata": {
    "id": "ejUG5KSguMFZ"
   },
   "source": [
    "### 3. Print the shape of one image (is it 32 x 32 x 3 numpy array ?)"
   ]
  },
  {
   "cell_type": "code",
   "execution_count": 3,
   "id": "adequate-vancouver",
   "metadata": {
    "colab": {
     "base_uri": "https://localhost:8080/"
    },
    "id": "adequate-vancouver",
    "outputId": "fb7eb836-2b4d-4e47-f189-257afb5f08ef"
   },
   "outputs": [
    {
     "data": {
      "text/plain": [
       "(32, 32, 3)"
      ]
     },
     "execution_count": 3,
     "metadata": {},
     "output_type": "execute_result"
    }
   ],
   "source": [
    "x_train[444].shape"
   ]
  },
  {
   "cell_type": "markdown",
   "id": "lAOE4Jkrur9i",
   "metadata": {
    "id": "lAOE4Jkrur9i"
   },
   "source": [
    "### 4. Display one image using imshow() function"
   ]
  },
  {
   "cell_type": "code",
   "execution_count": 4,
   "id": "tY7pHIhKuTKi",
   "metadata": {
    "colab": {
     "base_uri": "https://localhost:8080/",
     "height": 301
    },
    "id": "tY7pHIhKuTKi",
    "outputId": "c15151b7-b011-4249-9a76-f4e6842cbbe2"
   },
   "outputs": [
    {
     "name": "stdout",
     "output_type": "stream",
     "text": [
      "[9]\n"
     ]
    },
    {
     "data": {
      "text/plain": [
       "<matplotlib.image.AxesImage at 0x7fc726298a90>"
      ]
     },
     "execution_count": 4,
     "metadata": {},
     "output_type": "execute_result"
    },
    {
     "data": {
      "image/png": "[encoded data removed]",
      "text/plain": [
       "<Figure size 432x288 with 1 Axes>"
      ]
     },
     "metadata": {
      "needs_background": "light"
     },
     "output_type": "display_data"
    }
   ],
   "source": [
    "print(y_train[444])\n",
    "plt.imshow(x_train[444])"
   ]
  },
  {
   "cell_type": "markdown",
   "id": "yUfsBqPquvZw",
   "metadata": {
    "id": "yUfsBqPquvZw"
   },
   "source": [
    "### 5. Convert y_train and y_test into categorical values"
   ]
  },
  {
   "cell_type": "code",
   "execution_count": 5,
   "id": "jUoOc5lRuypV",
   "metadata": {
    "id": "jUoOc5lRuypV"
   },
   "outputs": [],
   "source": [
    "num_classes = 10\n",
    "y_train = to_categorical(y_train, num_classes)\n",
    "y_test = to_categorical(y_test, num_classes)"
   ]
  },
  {
   "cell_type": "code",
   "execution_count": 6,
   "id": "54T85X-oq_Ih",
   "metadata": {
    "id": "54T85X-oq_Ih"
   },
   "outputs": [],
   "source": [
    "class_names = ['airplane','car','bird','dog','cat','deer','frog','horse','ship','truck']"
   ]
  },
  {
   "cell_type": "code",
   "execution_count": 7,
   "id": "QJ4xeTvEHqEY",
   "metadata": {
    "colab": {
     "base_uri": "https://localhost:8080/"
    },
    "id": "QJ4xeTvEHqEY",
    "outputId": "7530bbf3-8d7a-4796-a1ca-339925580e67"
   },
   "outputs": [
    {
     "data": {
      "text/plain": [
       "array([0., 0., 0., 0., 0., 0., 1., 0., 0., 0.], dtype=float32)"
      ]
     },
     "execution_count": 7,
     "metadata": {},
     "output_type": "execute_result"
    }
   ],
   "source": [
    "y_train[0]"
   ]
  },
  {
   "cell_type": "markdown",
   "id": "5E71BvJ7uzLd",
   "metadata": {
    "id": "5E71BvJ7uzLd"
   },
   "source": [
    "### 6. Convert train data into float and scale"
   ]
  },
  {
   "cell_type": "code",
   "execution_count": 8,
   "id": "AisteDKmu3ts",
   "metadata": {
    "id": "AisteDKmu3ts"
   },
   "outputs": [],
   "source": [
    "x_train = x_train.astype('float32')\n",
    "x_test = x_test.astype('float32')\n",
    "x_train /= 255\n",
    "x_test /= 255"
   ]
  },
  {
   "cell_type": "markdown",
   "id": "38-14D5Vu4Yj",
   "metadata": {
    "id": "38-14D5Vu4Yj"
   },
   "source": [
    "### 7. Build your first CNN"
   ]
  },
  {
   "cell_type": "code",
   "execution_count": 9,
   "id": "PPYY0-v7u643",
   "metadata": {
    "id": "PPYY0-v7u643"
   },
   "outputs": [],
   "source": [
    "INPUT_SHAPE = (32,32,3)\n",
    "\n",
    "model = Sequential()\n",
    "\n",
    "model.add(Conv2D(filters=32, kernel_size=(5,5), strides=(2,2),activation='relu', padding='same', input_shape=INPUT_SHAPE))\n",
    "\n",
    "model.add(Conv2D(filters=32, kernel_size=(5,5),strides=(2,2), activation='relu', input_shape=INPUT_SHAPE))\n",
    "\n",
    "model.add(MaxPooling2D(pool_size=(2,2)))\n",
    "\n",
    "model.add(Dropout(rate=0.25))\n",
    "\n",
    "model.add(Flatten())\n",
    "\n",
    "model.add(Dense(512, activation='relu'))\n",
    "\n",
    "model.add(Dropout(rate=0.5))\n",
    "\n",
    "model.add(Dense(10, activation='softmax'))"
   ]
  },
  {
   "cell_type": "code",
   "execution_count": null,
   "id": "wiFu3jkbu_eZ",
   "metadata": {
    "id": "wiFu3jkbu_eZ"
   },
   "outputs": [],
   "source": [
    "model.summary()"
   ]
  },
  {
   "cell_type": "markdown",
   "id": "992a4708-6c27-4061-9685-f722e92d8b3c",
   "metadata": {
    "id": "992a4708-6c27-4061-9685-f722e92d8b3c"
   },
   "source": [
    "### 8. Print summary and verify your configuration"
   ]
  },
  {
   "cell_type": "code",
   "execution_count": 10,
   "id": "aac3e05f-e848-4a99-ae93-900348d46469",
   "metadata": {
    "colab": {
     "base_uri": "https://localhost:8080/"
    },
    "id": "aac3e05f-e848-4a99-ae93-900348d46469",
    "outputId": "13ac823a-7fc0-4c1e-9a6f-acc525dd4dbe"
   },
   "outputs": [
    {
     "name": "stdout",
     "output_type": "stream",
     "text": [
      "Model: \"sequential\"\n",
      "_________________________________________________________________\n",
      " Layer (type)                Output Shape              Param #   \n",
      "=================================================================\n",
      " conv2d (Conv2D)             (None, 16, 16, 32)        2432      \n",
      "                                                                 \n",
      " conv2d_1 (Conv2D)           (None, 6, 6, 32)          25632     \n",
      "                                                                 \n",
      " max_pooling2d (MaxPooling2D  (None, 3, 3, 32)         0         \n",
      " )                                                               \n",
      "                                                                 \n",
      " dropout (Dropout)           (None, 3, 3, 32)          0         \n",
      "                                                                 \n",
      " flatten (Flatten)           (None, 288)               0         \n",
      "                                                                 \n",
      " dense (Dense)               (None, 512)               147968    \n",
      "                                                                 \n",
      " dropout_1 (Dropout)         (None, 512)               0         \n",
      "                                                                 \n",
      " dense_1 (Dense)             (None, 10)                5130      \n",
      "                                                                 \n",
      "=================================================================\n",
      "Total params: 181,162\n",
      "Trainable params: 181,162\n",
      "Non-trainable params: 0\n",
      "_________________________________________________________________\n"
     ]
    }
   ],
   "source": [
    "model.summary()"
   ]
  },
  {
   "cell_type": "markdown",
   "id": "amozYhfevBzX",
   "metadata": {
    "id": "amozYhfevBzX"
   },
   "source": [
    "### 9. Compile and fit and validate your model with the following parameters"
   ]
  },
  {
   "cell_type": "code",
   "execution_count": 11,
   "id": "99444a74-3dc1-4cab-b235-a2c3e9c2b8b7",
   "metadata": {
    "id": "99444a74-3dc1-4cab-b235-a2c3e9c2b8b7"
   },
   "outputs": [],
   "source": [
    "model.compile(optimizer=RMSprop(0.00005,1e-6),loss='categorical_crossentropy',metrics=['accuracy'])"
   ]
  },
  {
   "cell_type": "code",
   "execution_count": 12,
   "id": "KsZ9hBrCcEXE",
   "metadata": {
    "colab": {
     "base_uri": "https://localhost:8080/"
    },
    "id": "KsZ9hBrCcEXE",
    "outputId": "238de056-e2cb-4fb9-a2f2-a89c7eba13c3"
   },
   "outputs": [
    {
     "name": "stdout",
     "output_type": "stream",
     "text": [
      "Epoch 1/15\n",
      "1250/1250 - 17s - loss: 2.1805 - accuracy: 0.1921 - val_loss: 1.9769 - val_accuracy: 0.3021 - 17s/epoch - 14ms/step\n",
      "Epoch 2/15\n",
      "1250/1250 - 5s - loss: 1.9247 - accuracy: 0.2973 - val_loss: 1.7976 - val_accuracy: 0.3598 - 5s/epoch - 4ms/step\n",
      "Epoch 3/15\n",
      "1250/1250 - 5s - loss: 1.8107 - accuracy: 0.3427 - val_loss: 1.7257 - val_accuracy: 0.3896 - 5s/epoch - 4ms/step\n",
      "Epoch 4/15\n",
      "1250/1250 - 5s - loss: 1.7406 - accuracy: 0.3685 - val_loss: 1.6518 - val_accuracy: 0.4117 - 5s/epoch - 4ms/step\n",
      "Epoch 5/15\n",
      "1250/1250 - 5s - loss: 1.6898 - accuracy: 0.3866 - val_loss: 1.6368 - val_accuracy: 0.4162 - 5s/epoch - 4ms/step\n",
      "Epoch 6/15\n",
      "1250/1250 - 5s - loss: 1.6458 - accuracy: 0.3997 - val_loss: 1.5730 - val_accuracy: 0.4373 - 5s/epoch - 4ms/step\n",
      "Epoch 7/15\n",
      "1250/1250 - 5s - loss: 1.6155 - accuracy: 0.4078 - val_loss: 1.5350 - val_accuracy: 0.4502 - 5s/epoch - 4ms/step\n",
      "Epoch 8/15\n",
      "1250/1250 - 5s - loss: 1.5891 - accuracy: 0.4205 - val_loss: 1.5149 - val_accuracy: 0.4526 - 5s/epoch - 4ms/step\n",
      "Epoch 9/15\n",
      "1250/1250 - 5s - loss: 1.5686 - accuracy: 0.4285 - val_loss: 1.4953 - val_accuracy: 0.4608 - 5s/epoch - 4ms/step\n",
      "Epoch 10/15\n",
      "1250/1250 - 5s - loss: 1.5530 - accuracy: 0.4330 - val_loss: 1.4784 - val_accuracy: 0.4665 - 5s/epoch - 4ms/step\n",
      "Epoch 11/15\n",
      "1250/1250 - 5s - loss: 1.5415 - accuracy: 0.4390 - val_loss: 1.4568 - val_accuracy: 0.4707 - 5s/epoch - 4ms/step\n",
      "Epoch 12/15\n",
      "1250/1250 - 5s - loss: 1.5278 - accuracy: 0.4451 - val_loss: 1.4568 - val_accuracy: 0.4748 - 5s/epoch - 4ms/step\n",
      "Epoch 13/15\n",
      "1250/1250 - 5s - loss: 1.5179 - accuracy: 0.4493 - val_loss: 1.4664 - val_accuracy: 0.4717 - 5s/epoch - 4ms/step\n",
      "Epoch 14/15\n",
      "1250/1250 - 5s - loss: 1.5018 - accuracy: 0.4565 - val_loss: 1.4323 - val_accuracy: 0.4825 - 5s/epoch - 4ms/step\n",
      "Epoch 15/15\n",
      "1250/1250 - 5s - loss: 1.4981 - accuracy: 0.4605 - val_loss: 1.4409 - val_accuracy: 0.4836 - 5s/epoch - 4ms/step\n"
     ]
    }
   ],
   "source": [
    "history=model.fit(x_train,y_train,batch_size=32,epochs=15,verbose=2,validation_split=0.2,shuffle=True)"
   ]
  },
  {
   "cell_type": "code",
   "execution_count": 13,
   "id": "gxDL1zlXkeAq",
   "metadata": {
    "colab": {
     "base_uri": "https://localhost:8080/"
    },
    "id": "gxDL1zlXkeAq",
    "outputId": "edf3651f-e9a4-4161-cdd3-d142c3e9b265"
   },
   "outputs": [
    {
     "name": "stdout",
     "output_type": "stream",
     "text": [
      "Test loss: 1.432023525238037\n",
      "Test accuracy: 0.48069998621940613\n"
     ]
    }
   ],
   "source": [
    "score = model.evaluate(x_test, y_test, verbose=0)\n",
    "print('Test loss:', score[0])\n",
    "print('Test accuracy:', score[1])"
   ]
  },
  {
   "cell_type": "markdown",
   "id": "ibl2e6SbvJTG",
   "metadata": {
    "id": "ibl2e6SbvJTG",
    "tags": []
   },
   "source": [
    "### 10. Exercise"
   ]
  },
  {
   "cell_type": "markdown",
   "id": "r9cO54W4Z9Ph",
   "metadata": {
    "id": "r9cO54W4Z9Ph"
   },
   "source": [
    "#### 1. Build a more complicated model with the following pattern: Conv -> Conv-> MaxPool -> Conv-> Conv -> MaxPool -> (Flatten) -> Dense -> Final Classification\n",
    "\n",
    "#### 2. Use strides of 1 for all convolutional layers.\n",
    "\n",
    "#### 3. How many parameters does your model have? How does that compare to the previous model?\n",
    "\n",
    "#### 4. Train it for 5 epochs. What do you notice about the training time, loss and accuracy numbers (on both the training and validation sets)?\n",
    "\n",
    "#### 5. Try different structures and run times, and see how accurate your model can be.\n"
   ]
  },
  {
   "cell_type": "markdown",
   "id": "ca2fab53-5f65-4215-b86a-425c2fca0709",
   "metadata": {
    "id": "ca2fab53-5f65-4215-b86a-425c2fca0709"
   },
   "source": [
    "# Model1"
   ]
  },
  {
   "cell_type": "code",
   "execution_count": 14,
   "id": "pRnmg84FvKDF",
   "metadata": {
    "id": "pRnmg84FvKDF"
   },
   "outputs": [],
   "source": [
    "INPUT_SHAPE = (32,32,3)\n",
    "\n",
    "model1 = Sequential()\n",
    "\n",
    "model1.add(Conv2D(filters=64, kernel_size=(5,5), strides=(1,1),activation='relu', padding='same', input_shape=INPUT_SHAPE))\n",
    "\n",
    "model1.add(Conv2D(filters=32, kernel_size=(4,4),strides=(1,1), activation='relu', padding='same', input_shape=INPUT_SHAPE))\n",
    "\n",
    "model1.add(MaxPooling2D(pool_size=(2,2)))\n",
    "\n",
    "model1.add(Flatten())\n",
    "\n",
    "model1.add(Dense(512, activation='relu'))\n",
    "model1.add(Dense(256, activation='relu'))\n",
    "\n",
    "model1.add(Dense(10, activation='softmax'))"
   ]
  },
  {
   "cell_type": "code",
   "execution_count": 15,
   "id": "cpa2ZqwmcX65",
   "metadata": {
    "colab": {
     "base_uri": "https://localhost:8080/"
    },
    "id": "cpa2ZqwmcX65",
    "outputId": "9bb70b08-1615-420a-fb92-470bc0829a17"
   },
   "outputs": [
    {
     "name": "stdout",
     "output_type": "stream",
     "text": [
      "Model: \"sequential_1\"\n",
      "_________________________________________________________________\n",
      " Layer (type)                Output Shape              Param #   \n",
      "=================================================================\n",
      " conv2d_2 (Conv2D)           (None, 32, 32, 64)        4864      \n",
      "                                                                 \n",
      " conv2d_3 (Conv2D)           (None, 32, 32, 32)        32800     \n",
      "                                                                 \n",
      " max_pooling2d_1 (MaxPooling  (None, 16, 16, 32)       0         \n",
      " 2D)                                                             \n",
      "                                                                 \n",
      " flatten_1 (Flatten)         (None, 8192)              0         \n",
      "                                                                 \n",
      " dense_2 (Dense)             (None, 512)               4194816   \n",
      "                                                                 \n",
      " dense_3 (Dense)             (None, 256)               131328    \n",
      "                                                                 \n",
      " dense_4 (Dense)             (None, 10)                2570      \n",
      "                                                                 \n",
      "=================================================================\n",
      "Total params: 4,366,378\n",
      "Trainable params: 4,366,378\n",
      "Non-trainable params: 0\n",
      "_________________________________________________________________\n"
     ]
    }
   ],
   "source": [
    "model1.summary()"
   ]
  },
  {
   "cell_type": "code",
   "execution_count": 16,
   "id": "BBahVskValC0",
   "metadata": {
    "id": "BBahVskValC0"
   },
   "outputs": [],
   "source": [
    "model1.compile(optimizer='adam',loss='categorical_crossentropy',metrics=['accuracy'])"
   ]
  },
  {
   "cell_type": "code",
   "execution_count": 17,
   "id": "4ADaHifyakyU",
   "metadata": {
    "colab": {
     "base_uri": "https://localhost:8080/"
    },
    "id": "4ADaHifyakyU",
    "outputId": "1676d21e-2908-4747-fe91-b131e1517d46"
   },
   "outputs": [
    {
     "name": "stdout",
     "output_type": "stream",
     "text": [
      "Epoch 1/15\n",
      "2500/2500 - 13s - loss: 1.5253 - accuracy: 0.4451 - val_loss: 1.2979 - val_accuracy: 0.5357 - 13s/epoch - 5ms/step\n",
      "Epoch 2/15\n",
      "2500/2500 - 12s - loss: 1.1262 - accuracy: 0.5978 - val_loss: 1.1038 - val_accuracy: 0.6158 - 12s/epoch - 5ms/step\n",
      "Epoch 3/15\n",
      "2500/2500 - 12s - loss: 0.8773 - accuracy: 0.6887 - val_loss: 1.0915 - val_accuracy: 0.6244 - 12s/epoch - 5ms/step\n",
      "Epoch 4/15\n",
      "2500/2500 - 12s - loss: 0.6394 - accuracy: 0.7749 - val_loss: 1.1068 - val_accuracy: 0.6386 - 12s/epoch - 5ms/step\n",
      "Epoch 5/15\n",
      "2500/2500 - 13s - loss: 0.4347 - accuracy: 0.8469 - val_loss: 1.3307 - val_accuracy: 0.6271 - 13s/epoch - 5ms/step\n",
      "Epoch 6/15\n",
      "2500/2500 - 12s - loss: 0.2937 - accuracy: 0.8988 - val_loss: 1.7829 - val_accuracy: 0.6153 - 12s/epoch - 5ms/step\n",
      "Epoch 7/15\n",
      "2500/2500 - 12s - loss: 0.2088 - accuracy: 0.9288 - val_loss: 2.0011 - val_accuracy: 0.6207 - 12s/epoch - 5ms/step\n",
      "Epoch 8/15\n",
      "2500/2500 - 12s - loss: 0.1741 - accuracy: 0.9413 - val_loss: 2.1539 - val_accuracy: 0.6084 - 12s/epoch - 5ms/step\n",
      "Epoch 9/15\n",
      "2500/2500 - 13s - loss: 0.1466 - accuracy: 0.9510 - val_loss: 2.1941 - val_accuracy: 0.6063 - 13s/epoch - 5ms/step\n",
      "Epoch 10/15\n",
      "2500/2500 - 12s - loss: 0.1273 - accuracy: 0.9585 - val_loss: 2.5235 - val_accuracy: 0.6163 - 12s/epoch - 5ms/step\n",
      "Epoch 11/15\n",
      "2500/2500 - 13s - loss: 0.1218 - accuracy: 0.9616 - val_loss: 2.5916 - val_accuracy: 0.6065 - 13s/epoch - 5ms/step\n",
      "Epoch 12/15\n",
      "2500/2500 - 12s - loss: 0.1093 - accuracy: 0.9653 - val_loss: 2.6787 - val_accuracy: 0.6179 - 12s/epoch - 5ms/step\n",
      "Epoch 13/15\n",
      "2500/2500 - 13s - loss: 0.1052 - accuracy: 0.9675 - val_loss: 3.0503 - val_accuracy: 0.6150 - 13s/epoch - 5ms/step\n",
      "Epoch 14/15\n",
      "2500/2500 - 12s - loss: 0.1076 - accuracy: 0.9670 - val_loss: 2.8255 - val_accuracy: 0.6122 - 12s/epoch - 5ms/step\n",
      "Epoch 15/15\n",
      "2500/2500 - 12s - loss: 0.0907 - accuracy: 0.9722 - val_loss: 3.0164 - val_accuracy: 0.6083 - 12s/epoch - 5ms/step\n"
     ]
    }
   ],
   "source": [
    "history1=model1.fit(x_train,y_train,batch_size=16,epochs=15,verbose=2,validation_split=0.2,shuffle=True)"
   ]
  },
  {
   "cell_type": "code",
   "execution_count": 18,
   "id": "eRsPyEyWk4NM",
   "metadata": {
    "colab": {
     "base_uri": "https://localhost:8080/"
    },
    "id": "eRsPyEyWk4NM",
    "outputId": "0c2753c9-da9e-439d-9465-5d7380972575"
   },
   "outputs": [
    {
     "name": "stdout",
     "output_type": "stream",
     "text": [
      "Test loss: 2.9877145290374756\n",
      "Test accuracy: 0.6115999817848206\n"
     ]
    }
   ],
   "source": [
    "score = model1.evaluate(x_test, y_test, verbose=0)\n",
    "print('Test loss:', score[0])\n",
    "print('Test accuracy:', score[1])"
   ]
  },
  {
   "cell_type": "markdown",
   "id": "4377345d-4ab9-41ca-b09a-cbfce5e4b9fc",
   "metadata": {
    "id": "4377345d-4ab9-41ca-b09a-cbfce5e4b9fc"
   },
   "source": [
    " "
   ]
  },
  {
   "cell_type": "markdown",
   "id": "529fe12b-4b6d-4fe1-8c15-7453f7927446",
   "metadata": {
    "id": "529fe12b-4b6d-4fe1-8c15-7453f7927446"
   },
   "source": [
    " # Model2"
   ]
  },
  {
   "cell_type": "code",
   "execution_count": null,
   "id": "zbN0hxG_jz94",
   "metadata": {
    "id": "zbN0hxG_jz94",
    "outputId": "f51b1fbf-fdcc-4558-a00f-26a959f22b13"
   },
   "outputs": [
    {
     "name": "stdout",
     "output_type": "stream",
     "text": [
      "Model: \"sequential_13\"\n",
      "_________________________________________________________________\n",
      "Layer (type)                 Output Shape              Param #   \n",
      "=================================================================\n",
      "conv2d_30 (Conv2D)           (None, 32, 32, 32)        896       \n",
      "_________________________________________________________________\n",
      "conv2d_31 (Conv2D)           (None, 32, 32, 32)        9248      \n",
      "_________________________________________________________________\n",
      "max_pooling2d_15 (MaxPooling (None, 16, 16, 32)        0         \n",
      "_________________________________________________________________\n",
      "dropout_26 (Dropout)         (None, 16, 16, 32)        0         \n",
      "_________________________________________________________________\n",
      "conv2d_32 (Conv2D)           (None, 16, 16, 64)        18496     \n",
      "_________________________________________________________________\n",
      "conv2d_33 (Conv2D)           (None, 16, 16, 64)        36928     \n",
      "_________________________________________________________________\n",
      "max_pooling2d_16 (MaxPooling (None, 8, 8, 64)          0         \n",
      "_________________________________________________________________\n",
      "dropout_27 (Dropout)         (None, 8, 8, 64)          0         \n",
      "_________________________________________________________________\n",
      "flatten_7 (Flatten)          (None, 4096)              0         \n",
      "_________________________________________________________________\n",
      "dense_27 (Dense)             (None, 128)               524416    \n",
      "_________________________________________________________________\n",
      "dropout_28 (Dropout)         (None, 128)               0         \n",
      "_________________________________________________________________\n",
      "dense_28 (Dense)             (None, 10)                1290      \n",
      "=================================================================\n",
      "Total params: 591,274\n",
      "Trainable params: 591,274\n",
      "Non-trainable params: 0\n",
      "_________________________________________________________________\n"
     ]
    }
   ],
   "source": [
    "model2 = Sequential()\n",
    "model2.add(Conv2D(32, kernel_size=3, activation='relu', padding='same', input_shape=(32,32,3)))\n",
    "model2.add(Conv2D(32, kernel_size=3, activation='relu', padding='same'))\n",
    "model2.add(MaxPooling2D())\n",
    "model2.add(Dropout(0.2))\n",
    "\n",
    "model2.add(Conv2D(64, kernel_size=3, activation='relu', padding='same'))\n",
    "model2.add(Conv2D(64, kernel_size=3, activation='relu', padding='same'))\n",
    "model2.add(MaxPooling2D())\n",
    "model2.add(Dropout(0.3))\n",
    "\n",
    "model2.add(Flatten())\n",
    "model2.add(Dense(128, activation='relu'))\n",
    "model2.add(Dropout(0.4))\n",
    "model2.add(Dense(10, activation='softmax'))\n",
    "\n",
    "model2.compile(loss='categorical_crossentropy', optimizer=tf.keras.optimizers.Adam(0.001), metrics=['accuracy'])\n",
    "model2.summary()"
   ]
  },
  {
   "cell_type": "code",
   "execution_count": null,
   "id": "FCiN9A-udcW5",
   "metadata": {
    "id": "FCiN9A-udcW5"
   },
   "outputs": [],
   "source": [
    "model2.compile(optimizer='adam',loss='categorical_crossentropy',metrics=['accuracy'])"
   ]
  },
  {
   "cell_type": "code",
   "execution_count": null,
   "id": "PPNf7LwMdhsh",
   "metadata": {
    "colab": {
     "base_uri": "https://localhost:8080/"
    },
    "id": "PPNf7LwMdhsh",
    "outputId": "fe1bdf85-da17-4d18-a5d9-a090ed4e22e6"
   },
   "outputs": [
    {
     "name": "stdout",
     "output_type": "stream",
     "text": [
      "Epoch 1/10\n",
      "1563/1563 [==============================] - 76s 48ms/step - loss: 1.5912 - accuracy: 0.4190\n",
      "Epoch 2/10\n",
      "1563/1563 [==============================] - 74s 47ms/step - loss: 1.2124 - accuracy: 0.5685\n",
      "Epoch 3/10\n",
      "1563/1563 [==============================] - 74s 48ms/step - loss: 1.0567 - accuracy: 0.6283\n",
      "Epoch 4/10\n",
      "1563/1563 [==============================] - 74s 47ms/step - loss: 0.9621 - accuracy: 0.6638\n",
      "Epoch 5/10\n",
      "1563/1563 [==============================] - 73s 47ms/step - loss: 0.8898 - accuracy: 0.6886\n",
      "Epoch 6/10\n",
      "1563/1563 [==============================] - 73s 47ms/step - loss: 0.8257 - accuracy: 0.7114\n",
      "Epoch 7/10\n",
      "1563/1563 [==============================] - 73s 47ms/step - loss: 0.7869 - accuracy: 0.7238\n",
      "Epoch 8/10\n",
      "1563/1563 [==============================] - 74s 47ms/step - loss: 0.7532 - accuracy: 0.7387\n",
      "Epoch 9/10\n",
      "1563/1563 [==============================] - 74s 48ms/step - loss: 0.7276 - accuracy: 0.7451\n",
      "Epoch 10/10\n",
      "1563/1563 [==============================] - 75s 48ms/step - loss: 0.6996 - accuracy: 0.7540\n"
     ]
    }
   ],
   "source": [
    "history2 = model2.fit(x_train,y_train,epochs=10,verbose=1)"
   ]
  },
  {
   "cell_type": "code",
   "execution_count": null,
   "id": "bYjzjbXFdpbK",
   "metadata": {
    "colab": {
     "base_uri": "https://localhost:8080/"
    },
    "id": "bYjzjbXFdpbK",
    "outputId": "b625c868-a837-4547-fa3f-cd1dbb83f655"
   },
   "outputs": [
    {
     "name": "stdout",
     "output_type": "stream",
     "text": [
      "Test loss: 0.6964384913444519\n",
      "Test accuracy: 0.7613999843597412\n"
     ]
    }
   ],
   "source": [
    "score = model2.evaluate(x_test, y_test, verbose=0)\n",
    "print('Test loss:', score[0])\n",
    "print('Test accuracy:', score[1])"
   ]
  },
  {
   "cell_type": "markdown",
   "id": "5b368cbb-a7f2-46a1-ac70-f1bb61cff6ae",
   "metadata": {
    "id": "5b368cbb-a7f2-46a1-ac70-f1bb61cff6ae"
   },
   "source": [
    " "
   ]
  },
  {
   "cell_type": "markdown",
   "id": "75243fe5-9b2b-4cac-bdc7-ae46a393fbc6",
   "metadata": {
    "id": "75243fe5-9b2b-4cac-bdc7-ae46a393fbc6"
   },
   "source": [
    " # Model3"
   ]
  },
  {
   "cell_type": "code",
   "execution_count": null,
   "id": "33522cb5-e897-428f-8cdf-bee9e5ec1b3c",
   "metadata": {
    "id": "33522cb5-e897-428f-8cdf-bee9e5ec1b3c"
   },
   "outputs": [],
   "source": [
    "import tensorflow as tf"
   ]
  },
  {
   "cell_type": "code",
   "execution_count": null,
   "id": "86plOBOCip0e",
   "metadata": {
    "id": "86plOBOCip0e",
    "outputId": "a92e44a7-1fb9-4f9a-8031-2bc6e7ae0854"
   },
   "outputs": [
    {
     "name": "stdout",
     "output_type": "stream",
     "text": [
      "Model: \"sequential_9\"\n",
      "_________________________________________________________________\n",
      "Layer (type)                 Output Shape              Param #   \n",
      "=================================================================\n",
      "conv2d_18 (Conv2D)           (None, 32, 32, 32)        896       \n",
      "_________________________________________________________________\n",
      "conv2d_19 (Conv2D)           (None, 32, 32, 32)        9248      \n",
      "_________________________________________________________________\n",
      "max_pooling2d_9 (MaxPooling2 (None, 16, 16, 32)        0         \n",
      "_________________________________________________________________\n",
      "dropout_16 (Dropout)         (None, 16, 16, 32)        0         \n",
      "_________________________________________________________________\n",
      "conv2d_20 (Conv2D)           (None, 16, 16, 64)        18496     \n",
      "_________________________________________________________________\n",
      "conv2d_21 (Conv2D)           (None, 16, 16, 64)        36928     \n",
      "_________________________________________________________________\n",
      "max_pooling2d_10 (MaxPooling (None, 8, 8, 64)          0         \n",
      "_________________________________________________________________\n",
      "dropout_17 (Dropout)         (None, 8, 8, 64)          0         \n",
      "_________________________________________________________________\n",
      "conv2d_22 (Conv2D)           (None, 8, 8, 128)         73856     \n",
      "_________________________________________________________________\n",
      "conv2d_23 (Conv2D)           (None, 8, 8, 128)         147584    \n",
      "_________________________________________________________________\n",
      "max_pooling2d_11 (MaxPooling (None, 4, 4, 128)         0         \n",
      "_________________________________________________________________\n",
      "dropout_18 (Dropout)         (None, 4, 4, 128)         0         \n",
      "_________________________________________________________________\n",
      "flatten_3 (Flatten)          (None, 2048)              0         \n",
      "_________________________________________________________________\n",
      "dense_19 (Dense)             (None, 128)               262272    \n",
      "_________________________________________________________________\n",
      "dropout_19 (Dropout)         (None, 128)               0         \n",
      "_________________________________________________________________\n",
      "dense_20 (Dense)             (None, 10)                1290      \n",
      "=================================================================\n",
      "Total params: 550,570\n",
      "Trainable params: 550,570\n",
      "Non-trainable params: 0\n",
      "_________________________________________________________________\n"
     ]
    }
   ],
   "source": [
    "model3 = Sequential()\n",
    "model3.add(Conv2D(32, kernel_size=3, activation='relu', padding='same', input_shape=(32,32,3)))\n",
    "model3.add(Conv2D(32, kernel_size=3, activation='relu', padding='same'))\n",
    "model3.add(MaxPooling2D())\n",
    "model3.add(Dropout(0.2))\n",
    "\n",
    "model3.add(Conv2D(64, kernel_size=3, activation='relu', padding='same'))\n",
    "model3.add(Conv2D(64, kernel_size=3, activation='relu', padding='same'))\n",
    "model3.add(MaxPooling2D())\n",
    "model3.add(Dropout(0.3))\n",
    "\n",
    "model3.add(Conv2D(128, kernel_size=3, activation='relu', padding='same'))\n",
    "model3.add(Conv2D(128, kernel_size=3, activation='relu', padding='same'))\n",
    "model3.add(MaxPooling2D())\n",
    "model3.add(Dropout(0.4))\n",
    "\n",
    "model3.add(Flatten())\n",
    "model3.add(Dense(128, activation='relu'))\n",
    "model3.add(Dropout(0.4))\n",
    "model3.add(Dense(10, activation='softmax'))\n",
    "\n",
    "model3.compile(loss='categorical_crossentropy', optimizer=tf.keras.optimizers.Adam(0.001), metrics=['accuracy'])\n",
    "model3.summary()"
   ]
  },
  {
   "cell_type": "code",
   "execution_count": null,
   "id": "9faa5375-3977-4e8a-9986-f9170474c20e",
   "metadata": {
    "id": "9faa5375-3977-4e8a-9986-f9170474c20e"
   },
   "outputs": [],
   "source": [
    "model3.compile(optimizer='adam',loss='categorical_crossentropy',metrics=['accuracy'])"
   ]
  },
  {
   "cell_type": "code",
   "execution_count": null,
   "id": "8ef099a6-7902-48e6-bc1d-2dc7a5031dda",
   "metadata": {
    "id": "8ef099a6-7902-48e6-bc1d-2dc7a5031dda",
    "outputId": "a6629471-8a98-47f0-f80b-7e46c4f527c6"
   },
   "outputs": [
    {
     "name": "stdout",
     "output_type": "stream",
     "text": [
      "Epoch 1/10\n",
      "1563/1563 [==============================] - 98s 62ms/step - loss: 1.7149 - accuracy: 0.3627\n",
      "Epoch 2/10\n",
      "1563/1563 [==============================] - 97s 62ms/step - loss: 1.3060 - accuracy: 0.5319\n",
      "Epoch 3/10\n",
      "1563/1563 [==============================] - 97s 62ms/step - loss: 1.1653 - accuracy: 0.5870\n",
      "Epoch 4/10\n",
      "1563/1563 [==============================] - 97s 62ms/step - loss: 1.0647 - accuracy: 0.6236\n",
      "Epoch 5/10\n",
      "1563/1563 [==============================] - 97s 62ms/step - loss: 0.9906 - accuracy: 0.6520\n",
      "Epoch 6/10\n",
      "1563/1563 [==============================] - 97s 62ms/step - loss: 0.9458 - accuracy: 0.6709\n",
      "Epoch 7/10\n",
      "1563/1563 [==============================] - 98s 62ms/step - loss: 0.9033 - accuracy: 0.6853\n",
      "Epoch 8/10\n",
      "1563/1563 [==============================] - 97s 62ms/step - loss: 0.8687 - accuracy: 0.6963\n",
      "Epoch 9/10\n",
      "1563/1563 [==============================] - 100s 64ms/step - loss: 0.8376 - accuracy: 0.7093\n",
      "Epoch 10/10\n",
      "1563/1563 [==============================] - 98s 63ms/step - loss: 0.8235 - accuracy: 0.7130\n"
     ]
    }
   ],
   "source": [
    "history3 = model3.fit(x_train,y_train,epochs=10,verbose=1)"
   ]
  },
  {
   "cell_type": "code",
   "execution_count": null,
   "id": "2f7c6496-21b0-4a08-8b47-74f70b07347e",
   "metadata": {
    "id": "2f7c6496-21b0-4a08-8b47-74f70b07347e",
    "outputId": "81238562-056f-4f82-c533-9ed7dd3d44f1"
   },
   "outputs": [
    {
     "name": "stdout",
     "output_type": "stream",
     "text": [
      "Test loss: 0.7111510634422302\n",
      "Test accuracy: 0.7573999762535095\n"
     ]
    }
   ],
   "source": [
    "score = model3.evaluate(x_test, y_test, verbose=0)\n",
    "print('Test loss:', score[0])\n",
    "print('Test accuracy:', score[1])"
   ]
  },
  {
   "cell_type": "markdown",
   "id": "ce378276-4ca2-4c2d-8a9f-cb2db1b5c0ff",
   "metadata": {
    "id": "ce378276-4ca2-4c2d-8a9f-cb2db1b5c0ff"
   },
   "source": [
    " "
   ]
  },
  {
   "cell_type": "markdown",
   "id": "34645450-4a02-4bcb-a024-3c68b8d9cf3a",
   "metadata": {
    "id": "34645450-4a02-4bcb-a024-3c68b8d9cf3a"
   },
   "source": [
    " # Model4"
   ]
  },
  {
   "cell_type": "code",
   "execution_count": null,
   "id": "70f4f4c8-b49b-494f-8655-95ff75347dae",
   "metadata": {
    "id": "70f4f4c8-b49b-494f-8655-95ff75347dae",
    "outputId": "6e30b9a4-06a5-4543-ac8a-ff2a07ce623c"
   },
   "outputs": [
    {
     "name": "stdout",
     "output_type": "stream",
     "text": [
      "Model: \"sequential_14\"\n",
      "_________________________________________________________________\n",
      "Layer (type)                 Output Shape              Param #   \n",
      "=================================================================\n",
      "conv2d_34 (Conv2D)           (None, 32, 32, 32)        896       \n",
      "_________________________________________________________________\n",
      "conv2d_35 (Conv2D)           (None, 32, 32, 32)        9248      \n",
      "_________________________________________________________________\n",
      "max_pooling2d_17 (MaxPooling (None, 16, 16, 32)        0         \n",
      "_________________________________________________________________\n",
      "dropout_29 (Dropout)         (None, 16, 16, 32)        0         \n",
      "_________________________________________________________________\n",
      "conv2d_36 (Conv2D)           (None, 16, 16, 64)        18496     \n",
      "_________________________________________________________________\n",
      "conv2d_37 (Conv2D)           (None, 16, 16, 64)        36928     \n",
      "_________________________________________________________________\n",
      "max_pooling2d_18 (MaxPooling (None, 8, 8, 64)          0         \n",
      "_________________________________________________________________\n",
      "dropout_30 (Dropout)         (None, 8, 8, 64)          0         \n",
      "_________________________________________________________________\n",
      "conv2d_38 (Conv2D)           (None, 8, 8, 128)         73856     \n",
      "_________________________________________________________________\n",
      "conv2d_39 (Conv2D)           (None, 8, 8, 128)         147584    \n",
      "_________________________________________________________________\n",
      "max_pooling2d_19 (MaxPooling (None, 4, 4, 128)         0         \n",
      "_________________________________________________________________\n",
      "dropout_31 (Dropout)         (None, 4, 4, 128)         0         \n",
      "_________________________________________________________________\n",
      "flatten_8 (Flatten)          (None, 2048)              0         \n",
      "_________________________________________________________________\n",
      "dense_29 (Dense)             (None, 128)               262272    \n",
      "_________________________________________________________________\n",
      "dropout_32 (Dropout)         (None, 128)               0         \n",
      "_________________________________________________________________\n",
      "dense_30 (Dense)             (None, 10)                1290      \n",
      "=================================================================\n",
      "Total params: 550,570\n",
      "Trainable params: 550,570\n",
      "Non-trainable params: 0\n",
      "_________________________________________________________________\n"
     ]
    }
   ],
   "source": [
    "model4 = Sequential()\n",
    "model4.add(Conv2D(32, kernel_size=3, activation='relu', padding='same', input_shape=(32,32,3)))\n",
    "model4.add(Conv2D(32, kernel_size=3, activation='relu', padding='same'))\n",
    "model4.add(MaxPooling2D())\n",
    "model4.add(Dropout(0.2))\n",
    "\n",
    "model4.add(Conv2D(64, kernel_size=3, activation='relu', padding='same'))\n",
    "model4.add(Conv2D(64, kernel_size=3, activation='relu', padding='same'))\n",
    "model4.add(MaxPooling2D())\n",
    "model4.add(Dropout(0.3))\n",
    "\n",
    "model4.add(Conv2D(128, kernel_size=3, activation='relu', padding='same'))\n",
    "model4.add(Conv2D(128, kernel_size=3, activation='relu', padding='same'))\n",
    "model4.add(MaxPooling2D())\n",
    "model4.add(Dropout(0.4))\n",
    "\n",
    "model4.add(Flatten())\n",
    "model4.add(Dense(128, activation='relu'))\n",
    "model4.add(Dropout(0.4))\n",
    "model4.add(Dense(10, activation='softmax'))\n",
    "\n",
    "model4.compile(loss='categorical_crossentropy', optimizer=tf.keras.optimizers.Adam(0.001), metrics=['accuracy'])\n",
    "model4.summary()"
   ]
  },
  {
   "cell_type": "code",
   "execution_count": null,
   "id": "f811cc2f-fb19-4f0a-8f2b-fca58fe8a4bc",
   "metadata": {
    "id": "f811cc2f-fb19-4f0a-8f2b-fca58fe8a4bc"
   },
   "outputs": [],
   "source": [
    "model4.compile(optimizer='adam',loss='categorical_crossentropy',metrics=['accuracy'])"
   ]
  },
  {
   "cell_type": "code",
   "execution_count": null,
   "id": "284be031-9f9c-481e-b8ad-0d9a44a54a6a",
   "metadata": {
    "id": "284be031-9f9c-481e-b8ad-0d9a44a54a6a",
    "outputId": "4f699275-592f-4885-c343-c8882b2f8d57"
   },
   "outputs": [
    {
     "name": "stdout",
     "output_type": "stream",
     "text": [
      "Epoch 1/30\n",
      "1563/1563 [==============================] - 98s 62ms/step - loss: 1.6767 - accuracy: 0.3736\n",
      "Epoch 2/30\n",
      "1563/1563 [==============================] - 97s 62ms/step - loss: 1.2842 - accuracy: 0.5396\n",
      "Epoch 3/30\n",
      "1563/1563 [==============================] - 98s 62ms/step - loss: 1.1160 - accuracy: 0.6048\n",
      "Epoch 4/30\n",
      "1563/1563 [==============================] - 102s 65ms/step - loss: 1.0198 - accuracy: 0.6412\n",
      "Epoch 5/30\n",
      "1563/1563 [==============================] - 99s 63ms/step - loss: 0.9509 - accuracy: 0.6660\n",
      "Epoch 6/30\n",
      "1563/1563 [==============================] - 99s 64ms/step - loss: 0.8953 - accuracy: 0.6868\n",
      "Epoch 7/30\n",
      "1563/1563 [==============================] - 99s 63ms/step - loss: 0.8570 - accuracy: 0.7038\n",
      "Epoch 8/30\n",
      "1563/1563 [==============================] - 99s 63ms/step - loss: 0.8297 - accuracy: 0.7090\n",
      "Epoch 9/30\n",
      "1563/1563 [==============================] - 99s 63ms/step - loss: 0.7995 - accuracy: 0.7191\n",
      "Epoch 10/30\n",
      "1563/1563 [==============================] - 102s 65ms/step - loss: 0.7822 - accuracy: 0.7315\n",
      "Epoch 11/30\n",
      "1563/1563 [==============================] - 102s 65ms/step - loss: 0.7591 - accuracy: 0.7378\n",
      "Epoch 12/30\n",
      "1563/1563 [==============================] - 99s 63ms/step - loss: 0.7474 - accuracy: 0.7404\n",
      "Epoch 13/30\n",
      "1563/1563 [==============================] - 101s 65ms/step - loss: 0.7274 - accuracy: 0.7479\n",
      "Epoch 14/30\n",
      "1563/1563 [==============================] - 103s 66ms/step - loss: 0.7167 - accuracy: 0.7511\n",
      "Epoch 15/30\n",
      "1563/1563 [==============================] - 102s 65ms/step - loss: 0.7007 - accuracy: 0.7567\n",
      "Epoch 16/30\n",
      "1563/1563 [==============================] - 100s 64ms/step - loss: 0.6922 - accuracy: 0.7609\n",
      "Epoch 17/30\n",
      "1563/1563 [==============================] - 103s 66ms/step - loss: 0.6943 - accuracy: 0.7610\n",
      "Epoch 18/30\n",
      "1563/1563 [==============================] - 103s 66ms/step - loss: 0.6795 - accuracy: 0.7654\n",
      "Epoch 19/30\n",
      "1563/1563 [==============================] - 104s 66ms/step - loss: 0.6700 - accuracy: 0.7688\n",
      "Epoch 20/30\n",
      "1563/1563 [==============================] - 102s 65ms/step - loss: 0.6654 - accuracy: 0.7709\n",
      "Epoch 21/30\n",
      "1563/1563 [==============================] - 98s 63ms/step - loss: 0.6609 - accuracy: 0.7738\n",
      "Epoch 22/30\n",
      "1563/1563 [==============================] - 102s 65ms/step - loss: 0.6484 - accuracy: 0.7744\n",
      "Epoch 23/30\n",
      "1563/1563 [==============================] - 102s 65ms/step - loss: 0.6510 - accuracy: 0.7749\n",
      "Epoch 24/30\n",
      "1563/1563 [==============================] - 98s 63ms/step - loss: 0.6449 - accuracy: 0.7774\n",
      "Epoch 25/30\n",
      "1563/1563 [==============================] - 101s 64ms/step - loss: 0.6328 - accuracy: 0.7817\n",
      "Epoch 26/30\n",
      "1563/1563 [==============================] - 98s 63ms/step - loss: 0.6355 - accuracy: 0.7814\n",
      "Epoch 27/30\n",
      "1563/1563 [==============================] - 101s 65ms/step - loss: 0.6313 - accuracy: 0.7827\n",
      "Epoch 28/30\n",
      "1563/1563 [==============================] - 103s 66ms/step - loss: 0.6261 - accuracy: 0.7836\n",
      "Epoch 29/30\n",
      "1563/1563 [==============================] - 99s 64ms/step - loss: 0.6319 - accuracy: 0.7862\n",
      "Epoch 30/30\n",
      "1563/1563 [==============================] - 99s 63ms/step - loss: 0.6182 - accuracy: 0.7872\n"
     ]
    }
   ],
   "source": [
    "history4 = model4.fit(x_train,y_train,epochs=30,verbose=1)"
   ]
  },
  {
   "cell_type": "code",
   "execution_count": null,
   "id": "1c19e37b-fd54-4d51-86f2-55c01b145e4a",
   "metadata": {
    "id": "1c19e37b-fd54-4d51-86f2-55c01b145e4a",
    "outputId": "27a6318f-94e8-47a7-cdc6-a6ddb1921aa8"
   },
   "outputs": [
    {
     "name": "stdout",
     "output_type": "stream",
     "text": [
      "Test loss: 0.6298004388809204\n",
      "Test accuracy: 0.7901999950408936\n"
     ]
    }
   ],
   "source": [
    "score = model4.evaluate(x_test, y_test, verbose=0)\n",
    "print('Test loss:', score[0])\n",
    "print('Test accuracy:', score[1])"
   ]
  },
  {
   "cell_type": "code",
   "execution_count": null,
   "id": "e8a3cc9d-54dc-4334-ac81-c8d01184f23e",
   "metadata": {
    "id": "e8a3cc9d-54dc-4334-ac81-c8d01184f23e"
   },
   "outputs": [],
   "source": []
  }
 ],
 "metadata": {
  "accelerator": "GPU",
  "colab": {
   "collapsed_sections": [],
   "provenance": []
  },
  "kernelspec": {
   "display_name": "Python 3",
   "language": "python",
   "name": "python3"
  },
  "language_info": {
   "codemirror_mode": {
    "name": "ipython",
    "version": 3
   },
   "file_extension": ".py",
   "mimetype": "text/x-python",
   "name": "python",
   "nbconvert_exporter": "python",
   "pygments_lexer": "ipython3",
   "version": "3.8.8"
  }
 },
 "nbformat": 4,
 "nbformat_minor": 5
}
